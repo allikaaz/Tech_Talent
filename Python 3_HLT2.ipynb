{
 "cells": [
  {
   "cell_type": "code",
   "execution_count": 9,
   "metadata": {},
   "outputs": [],
   "source": [
    "def mark_grade():\n",
    "    mark_input = int(input(\"Hello Student, please enter your grade as a percentage. Please do NOT include the % symbol: \"))\n",
    "    if mark_input <100 and mark_input >=90:\n",
    "        grade = \"A++\"\n",
    "    elif mark_input <90 and mark_input >=80:\n",
    "        grade = \"A+\"\n",
    "        \n",
    "    elif mark_input <80 and mark_input >=70:\n",
    "        grade = \"A\"\n",
    "    elif mark_input <70 and mark_input >=60:\n",
    "        grade = \"B\"\n",
    "    elif mark_input <60 and mark_input >=50:\n",
    "        grade = \"C\"\n",
    "    elif mark_input <50 and mark_input >=0:\n",
    "        grade = \"P\"\n",
    "    else:\n",
    "        grade = \"Error\"\n",
    "        print(\"You have not entered a correct value.\")\n",
    "\n",
    "    print(\"You have achieved:\", grade) \n",
    "        \n",
    "    return mark_input"
   ]
  },
  {
   "cell_type": "code",
   "execution_count": 10,
   "metadata": {},
   "outputs": [
    {
     "name": "stdout",
     "output_type": "stream",
     "text": [
      "You have achieved: A\n"
     ]
    }
   ],
   "source": [
    "mark = mark_grade()\n"
   ]
  },
  {
   "cell_type": "code",
   "execution_count": 12,
   "metadata": {},
   "outputs": [
    {
     "name": "stdout",
     "output_type": "stream",
     "text": [
      "Good job, you hit your target! Keep studying to do even better!\n"
     ]
    }
   ],
   "source": [
    "target = int(input(\"Please enter your target grade as percentage. Please do NOT include the % symbol: \"))\n",
    "\n",
    "if mark > target:\n",
    "    print(\"Well done! You have exceeded your target.\")\n",
    "elif mark == target:\n",
    "    print(\"Good job, you hit your target! Keep studying to do even better!\")\n",
    "else:\n",
    "    print(\"You need to keep studying. You have not hit your target.\")\n",
    "    print(\"Your grade was\", mark,\"and you were aiming for\", target)"
   ]
  }
 ],
 "metadata": {
  "kernelspec": {
   "display_name": "Python 3",
   "language": "python",
   "name": "python3"
  },
  "language_info": {
   "codemirror_mode": {
    "name": "ipython",
    "version": 3
   },
   "file_extension": ".py",
   "mimetype": "text/x-python",
   "name": "python",
   "nbconvert_exporter": "python",
   "pygments_lexer": "ipython3",
   "version": "3.10.0"
  }
 },
 "nbformat": 4,
 "nbformat_minor": 4
}
